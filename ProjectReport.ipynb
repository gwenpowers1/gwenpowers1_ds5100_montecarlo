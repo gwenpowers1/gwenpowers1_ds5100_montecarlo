{
 "cells": [
  {
   "cell_type": "markdown",
   "id": "45762487-d33f-486d-8e38-2cdea04e3528",
   "metadata": {},
   "source": [
    "# Final Project Report\n",
    "\n",
    "* Class: DS 5100\n",
    "* Student Name: Gwen Powers\n",
    "* Student Net ID: gp8cf\n",
    "* This URL: https://github.com/gwenpowers1/gwenpowers1_ds5100_montecarlo/blob/main/FinalProjectTemplate.ipynb"
   ]
  },
  {
   "cell_type": "markdown",
   "id": "acf756c1-ecaa-41dc-b6ca-d566eb94560b",
   "metadata": {},
   "source": [
    "# Instructions\n",
    "\n",
    "Follow the instructions in the [Final Project](https://ontoligent.github.io/DS5100-2023-07-R/notebooks/M00_FinalProject/FinalProjectInstructions.html) isntructions and put your work in this notebook.\n",
    "\n",
    "Total points for each subsection under **Deliverables** and **Scenarios** are given in parentheses.\n",
    "\n",
    "Breakdowns of points within subsections are specified within subsection instructions as bulleted lists.\n",
    "\n",
    "This project is worth **50 points**."
   ]
  },
  {
   "cell_type": "markdown",
   "id": "89dc7a32-f682-4402-8c1e-b6ccdb3e0e39",
   "metadata": {},
   "source": [
    "# Deliverables"
   ]
  },
  {
   "cell_type": "markdown",
   "id": "d32cb273-9a40-4909-a7ce-51f6e4958d3c",
   "metadata": {},
   "source": [
    "## The Monte Carlo Module (10)\n",
    "\n",
    "- URL included, appropriately named (1).\n",
    "- Includes all three specified classes (3).\n",
    "- Includes at least all 12 specified methods (6; .5 each)."
   ]
  },
  {
   "cell_type": "markdown",
   "id": "f5f3b070-de9e-4de9-bfae-8974d184aa28",
   "metadata": {},
   "source": [
    "Put the URL to your GitHub repo here.\n",
    "\n",
    "Repo URL: https://github.com/gwenpowers1/gwenpowers1_ds5100_montecarlo"
   ]
  },
  {
   "cell_type": "markdown",
   "id": "162370fb-3729-4c85-b040-8c25b2c966d2",
   "metadata": {},
   "source": [
    "```\n",
    "import pandas as pd\n",
    "import numpy as np\n",
    "from itertools import combinations_with_replacement, product\n",
    "```\n",
    "\n",
    "```\n",
    "class Die:\n",
    "    '''creates a Die with N sides and W weight that can be rolled to select a face, each of which has a unique symbol that is alphabetic or numeric. W defaults to 1.0 but can be changed after the Die is created. '''\n",
    "    \n",
    "    def __init__(self, symbols):\n",
    "        '''\n",
    "        Takes a list of symbols as an argument and internally initializes the weights to 1.0 for each symbol.\n",
    "        Saves both symbols and weights in a private data frame with symbols in the index.\n",
    "        \n",
    "        :param symbols: List of symbols for the die sides.\n",
    "        '''\n",
    "        if not isinstance(symbols, list):\n",
    "            raise TypeError(\"Input must be a list of symbols\")\n",
    "        \n",
    "        if len(symbols) != len(set(symbols)):\n",
    "            raise ValueError(\"Symbols must be unique\")\n",
    "        \n",
    "        if all(isinstance(s, str) and (s.isnumeric() or s.isalpha()) for s in symbols):\n",
    "            self.symbols = symbols\n",
    "        else:\n",
    "            raise ValueError(\"Symbols must be all alphabetic or all numeric\")\n",
    "        \n",
    "        self.weights = np.ones(len(symbols))  # Initializing weights to 1.0 for each symbol\n",
    "        self._data_frame = pd.DataFrame({\"Weights\": self.weights}, index=self.symbols)\n",
    "    \n",
    "    def change_weight(self, symbol, new_weight):\n",
    "        '''\n",
    "        A method to change the weight of a single side.\n",
    "        \n",
    "        Takes two arguments: the symbol to be changed and the new weight.\n",
    "        \n",
    "        :param symbol: The symbol to be changed.\n",
    "        :param new_weight: The new weight to be assigned.\n",
    "        '''\n",
    "        if symbol not in self.symbols:\n",
    "            raise IndexError(\"Invalid symbol\")\n",
    "        \n",
    "        if not isinstance(new_weight, (int, float)):\n",
    "            raise TypeError(\"Weight must be numeric\")\n",
    "        \n",
    "        self.weights[self.symbols.index(symbol)] = new_weight\n",
    "        self._data_frame.loc[symbol, \"Weights\"] = new_weight\n",
    "    \n",
    "    def roll_die(self, x=1):\n",
    "        '''\n",
    "        Rolls the die x times, x defaults to 1, while applying its N and W attributes, returns a list of outcomes but does not store these internally.\n",
    "        \n",
    "        :param x: Number of times to roll the die.\n",
    "        :return: List of outcomes from rolling the die x times.\n",
    "        '''\n",
    "        outcomes = np.random.choice(self.symbols, size=x, p=self.weights / np.sum(self.weights))\n",
    "        return outcomes.tolist()\n",
    "    \n",
    "    def current_die(self):\n",
    "        '''\n",
    "        Returns a copy of the private die data frame.\n",
    "        '''\n",
    "        return self._data_frame.copy()\n",
    "```\n",
    "\n",
    "    \n",
    "```   \n",
    "class Game:\n",
    "    '''Creates a Game consisting of inputing one or more Die objects (dice), with the same number of sides and associated faces, but possibly different weights. This class rolls all of the Die in a Game a given number of times and only keeps the most recent play.'''\n",
    "    \n",
    "    def __init__(self, dice_list):\n",
    "        '''\n",
    "        Takes a list of instantiated similar Die.\n",
    "        \n",
    "        :param dice_list: List of Die objects.\n",
    "        '''\n",
    "        self.dice = dice_list\n",
    "        self.play_data = pd.DataFrame()\n",
    "    \n",
    "    def play(self, x):\n",
    "        '''\n",
    "        Takes an integer value of how many times the Die should be rolled and save the result to a private, wide dataframe.\n",
    "        \n",
    "        :param x: Number of times to roll the dice.\n",
    "        '''\n",
    "        play_results = {}\n",
    "        \n",
    "        for roll_num in range(1, x+1):\n",
    "            roll_outcomes = {}\n",
    "            for die_idx, die in enumerate(self.dice):\n",
    "                outcome = die.roll_die(1)[0]\n",
    "                roll_outcomes[f\"Die_{die_idx}\"] = outcome\n",
    "            \n",
    "            play_results[roll_num] = roll_outcomes\n",
    "        \n",
    "        self.play_data = pd.DataFrame.from_dict(play_results, orient='index')\n",
    "    \n",
    "    \n",
    "    def play_results(self, df_width='wide'):\n",
    "        '''\n",
    "        Returns results of the most recent play, takes parameter to determine whether this should be a wide or narrow dataframe (defaults to wide), and raises a ValueError if invalid option for df_width (not narrow or wide) is given.\n",
    "    \n",
    "        :param df_width: Option to return the data frame in 'narrow' or 'wide' form (defaults to 'wide').\n",
    "        :return: Copy of the private play data frame.\n",
    "        '''\n",
    "        if df_width == 'wide':\n",
    "            return self.play_data.copy()\n",
    "        elif df_width == 'narrow':\n",
    "            narrow_data = []\n",
    "            for roll_num, outcomes in self.play_data.iterrows():\n",
    "                for die_num, outcome in outcomes.items():\n",
    "                    narrow_data.append([roll_num, f\"Die_{die_num}\", outcome])\n",
    "            narrow_df = pd.DataFrame(narrow_data, columns=['Roll', 'Die', 'Outcome'])\n",
    "            narrow_df.set_index(['Roll', 'Die'], inplace=True)  # Set index with a list of column names as strings\n",
    "            return narrow_df\n",
    "        else:\n",
    "            raise ValueError(\"Invalid option for df_width. Use 'narrow' or 'wide'.\")\n",
    "\n",
    "```\n",
    "\n",
    "    \n",
    "```    \n",
    "class Analyzer:   \n",
    "    '''Creates an Analyzer which takes the results of a single game and computes various statistical properties about it.'''\n",
    "\n",
    "    def __init__(self, game):\n",
    "        '''\n",
    "        Takes a Game object, throws an error if input is not a Game.\n",
    "        \n",
    "        :param game: Game object.\n",
    "        '''\n",
    "        if not isinstance(game, Game):\n",
    "            raise ValueError(\"Input must be a Game object.\")\n",
    "        self.game = game\n",
    "        self.results = game.play_data\n",
    "    \n",
    "    def jackpot(self):\n",
    "        '''\n",
    "        Computes and returns as an integer how many times the game resulted in a jackpot, when all faces are the same.\n",
    "        \n",
    "        :return: Number of jackpots.\n",
    "        '''\n",
    "        jackpot_count = 0\n",
    "        for _, outcomes in self.results.iterrows():\n",
    "            if all(outcome == outcomes[0] for outcome in outcomes):\n",
    "                jackpot_count += 1\n",
    "        return jackpot_count\n",
    "    def face_counts_per_roll(self, face):\n",
    "        '''\n",
    "        Computes how many times a given face is rolled in each event and returns a dataframe of results.\n",
    "    \n",
    "        :param face: Face value to compute counts for.\n",
    "        :return: Data frame with counts for the given face value.\n",
    "        '''\n",
    "        face_counts = {}\n",
    "        for roll_num, outcomes in self.results.iterrows():\n",
    "            face_count = outcomes.tolist().count(face)\n",
    "            face_counts[roll_num] = face_count\n",
    "    \n",
    "        return pd.DataFrame({f'Face_{face}_Count': face_counts})\n",
    "     \n",
    "    \n",
    "    def combo_count(self):\n",
    "        '''\n",
    "        Computes the distinct combinations of faces rolled and their counts and returns a dataframe of results. These are order-independent and may contain repetitions.\n",
    "        \n",
    "        :return: Data frame with distinct combinations and their counts.\n",
    "        '''\n",
    "        combo_counts = {}\n",
    "        for _, outcomes in self.results.iterrows():\n",
    "            unique_combinations = set(combinations_with_replacement(outcomes, len(self.game.dice)))\n",
    "            for combo in unique_combinations:\n",
    "                combo_counts.setdefault(combo, 0)\n",
    "                combo_counts[combo] += 1\n",
    "        \n",
    "        combo_df = pd.DataFrame(combo_counts.items(), columns=['Combo', 'Count'])\n",
    "        combo_df['Combo'] = combo_df['Combo'].apply(lambda x: tuple(sorted(x)))\n",
    "        combo_df = combo_df.groupby('Combo')['Count'].sum().reset_index()\n",
    "        \n",
    "        return combo_df.set_index('Combo')\n",
    "    \n",
    "    def permutation_count(self):\n",
    "        '''\n",
    "        Computes the distinct permutations of faces rolled and their counts and returns a dataframe of results. These are order-dependent and may contain repetitions\n",
    "        \n",
    "        :return: Data frame with distinct permutations and their counts.\n",
    "        '''\n",
    "        perm_counts = {}\n",
    "        for _, outcomes in self.results.iterrows():\n",
    "            unique_permutations = set(product(outcomes, repeat=len(self.game.dice)))\n",
    "            for perm in unique_permutations:\n",
    "                perm_counts.setdefault(perm, 0)\n",
    "                perm_counts[perm] += 1\n",
    "        \n",
    "        perm_df = pd.DataFrame(perm_counts.items(), columns=['Permutation', 'Count'])\n",
    "        perm_df['Permutation'] = perm_df['Permutation'].apply(lambda x: tuple(x))\n",
    "        perm_df = perm_df.groupby('Permutation')['Count'].sum().reset_index()\n",
    "        \n",
    "        perm_df['Permutation'] = pd.MultiIndex.from_tuples(perm_df['Permutation'])\n",
    "        perm_df.set_index('Permutation', inplace=True)\n",
    "        \n",
    "        return perm_df\n",
    "```\n"
   ]
  },
  {
   "cell_type": "markdown",
   "id": "6377727a-8f0a-491e-9f1c-d9dc225edd35",
   "metadata": {},
   "source": [
    "## Unitest Module (2)\n",
    "\n",
    "Paste a copy of your test module below.\n",
    "\n",
    "NOTE: Paste as text, not as code. Use triple backticks to wrap your code blocks.\n",
    "\n",
    "- All methods have at least one test method (1).\n",
    "- Each method employs one of Unittest's Assert methods (1)."
   ]
  },
  {
   "cell_type": "markdown",
   "id": "37bd343c-4ec9-4554-a001-0b490cc005fb",
   "metadata": {},
   "source": [
    "```\n",
    "import unittest\n",
    "import pandas as pd\n",
    "import numpy as np\n",
    "from montecarlo import Die, Game, Analyzer\n",
    "from itertools import combinations_with_replacement, product\n",
    "```\n",
    "\n",
    "```\n",
    "class TestDieMethods(unittest.TestCase):\n",
    "\n",
    "    def test_init(self):\n",
    "        symbols = ['1', '2', '3', '4', '5', '6']\n",
    "        die = Die(symbols)\n",
    "        self.assertEqual(die.symbols, symbols)\n",
    "        self.assertEqual(die.weights.tolist(), [1.0] * 6)\n",
    "\n",
    "    def test_change_weight(self):\n",
    "        symbols = ['1', '2', '3', '4', '5', '6']\n",
    "        die = Die(symbols)\n",
    "        die.change_weight('1', 2.0)\n",
    "        self.assertEqual(die.weights.tolist(), [2.0, 1.0, 1.0, 1.0, 1.0, 1.0])\n",
    "\n",
    "    def test_roll_die(self):\n",
    "        symbols = ['1', '2', '3', '4', '5', '6']\n",
    "        die = Die(symbols)\n",
    "        outcomes = die.roll_die(100)\n",
    "        self.assertEqual(len(outcomes), 100)\n",
    "\n",
    "    \n",
    "    def test_current_die(self):\n",
    "        symbols = ['1', '2', '3', '4', '5', '6']\n",
    "        die = Die(symbols)\n",
    "        current_data_frame = die.current_die()\n",
    "        self.assertEqual(current_data_frame.shape[0], 6)\n",
    "```\n",
    "```\n",
    "class TestGameMethods(unittest.TestCase):\n",
    "\n",
    "    def test_init(self):\n",
    "        die1 = Die(['1', '2', '3', '4', '5', '6'])\n",
    "        die2 = Die(['A', 'B', 'C', 'D', 'E', 'F'])\n",
    "        game = Game([die1, die2])\n",
    "        self.assertEqual(len(game.dice), 2)\n",
    "\n",
    "    def test_play(self):\n",
    "        die1 = Die(['1', '2', '3', '4', '5', '6'])\n",
    "        die2 = Die(['A', 'B', 'C', 'D', 'E', 'F'])\n",
    "        game = Game([die1, die2])\n",
    "        game.play(10)\n",
    "        self.assertEqual(game.play_data.shape, (10, 2))\n",
    "        \n",
    "    def test_play_results(self):\n",
    "        die1 = Die(['1', '2', '3', '4', '5', '6'])\n",
    "        die2 = Die(['A', 'B', 'C', 'D', 'E', 'F'])\n",
    "        game = Game([die1, die2])\n",
    "        game.play(10)\n",
    "        \n",
    "        play_results_wide = game.play_results('wide')\n",
    "        play_results_narrow = game.play_results('narrow')\n",
    "        \n",
    "        self.assertIsInstance(play_results_wide, pd.DataFrame)\n",
    "        self.assertIsInstance(play_results_narrow, pd.DataFrame)\n",
    "        self.assertEqual(play_results_wide.shape, (10, 2))\n",
    "        \n",
    "        self.assertEqual(play_results_narrow.index.names, ['Roll', 'Die'])\n",
    "```\n",
    "\n",
    "```\n",
    "class TestAnalyzerMethods(unittest.TestCase):\n",
    "\n",
    "    def test_init(self):\n",
    "        die1 = Die(['1', '2', '3', '4', '5', '6'])\n",
    "        die2 = Die(['A', 'B', 'C', 'D', 'E', 'F'])\n",
    "        game = Game([die1, die2])\n",
    "        game.play(10)\n",
    "        self.analyzer = Analyzer(game)\n",
    "\n",
    "    def test_jackpot(self):\n",
    "        self.test_init()  # Call your custom initialization method\n",
    "        jackpot_count = self.analyzer.jackpot()\n",
    "        self.assertIsInstance(jackpot_count, int)\n",
    "\n",
    "    def test_face_counts_per_roll(self):\n",
    "        self.test_init()  # Call your custom initialization method\n",
    "        face = '1'\n",
    "        face_counts_df = self.analyzer.face_counts_per_roll(face)\n",
    "        self.assertIsInstance(face_counts_df, pd.DataFrame)\n",
    "\n",
    "    def test_combo_count(self):\n",
    "        self.test_init()  # Call your custom initialization method\n",
    "        combo_counts_df = self.analyzer.combo_count()\n",
    "        self.assertIsInstance(combo_counts_df, pd.DataFrame)\n",
    "\n",
    "    def test_permutation_count(self):\n",
    "        self.test_init()  # Call your custom initialization method\n",
    "        perm_counts_df = self.analyzer.permutation_count()\n",
    "        self.assertIsInstance(perm_counts_df, pd.DataFrame)\n",
    "```\n",
    "\n",
    "```       \n",
    "if __name__ == '__main__':\n",
    "    unittest.main()\n",
    "```"
   ]
  },
  {
   "cell_type": "markdown",
   "id": "3e058d03-29bc-408f-b36d-0605b4f4b8c0",
   "metadata": {
    "tags": []
   },
   "source": [
    "## Unittest Results (3)\n",
    "\n",
    "Put a copy of the results of running your tests from the command line here.\n",
    "\n",
    "Again, paste as text using triple backticks.\n",
    "\n",
    "- All 12 specified methods return OK (3; .25 each)."
   ]
  },
  {
   "cell_type": "raw",
   "id": "54691fd0-836c-43c7-adc9-4a09d8aa9ab2",
   "metadata": {
    "tags": []
   },
   "source": [
    "```\n",
    "............\n",
    "----------------------------------------------------------------------\n",
    "Ran 12 tests in 0.015s\n",
    "\n",
    "OK\n",
    "```"
   ]
  },
  {
   "cell_type": "markdown",
   "id": "d9ffe8c5-eb2f-4ad1-af76-a46550e4c7ac",
   "metadata": {},
   "source": [
    "## Import (1)\n",
    "\n",
    "Import your module here. This import should refer to the code in your package directory.\n",
    "\n",
    "- Module successuflly imported (1)."
   ]
  },
  {
   "cell_type": "code",
   "execution_count": 1,
   "id": "a05dffb3-e6d6-4f78-9df4-5abd0cf74ca9",
   "metadata": {
    "tags": []
   },
   "outputs": [],
   "source": [
    "import montecarlo"
   ]
  },
  {
   "cell_type": "markdown",
   "id": "f30c4842-65b1-4556-98b6-3fe1a07e1371",
   "metadata": {},
   "source": [
    "## Help Docs (4)\n",
    "\n",
    "Show your docstring documentation by applying `help()` to your imported module.\n",
    "\n",
    "- All methods have a docstring (3; .25 each).\n",
    "- All classes have a docstring (1; .33 each)."
   ]
  },
  {
   "cell_type": "code",
   "execution_count": 2,
   "id": "bf4fbf1f-9885-471c-a0a6-e9ca90e160de",
   "metadata": {
    "tags": []
   },
   "outputs": [
    {
     "name": "stdout",
     "output_type": "stream",
     "text": [
      "Help on module montecarlo:\n",
      "\n",
      "NAME\n",
      "    montecarlo\n",
      "\n",
      "CLASSES\n",
      "    builtins.object\n",
      "        Analyzer\n",
      "        Die\n",
      "        Game\n",
      "    \n",
      "    class Analyzer(builtins.object)\n",
      "     |  Analyzer(game)\n",
      "     |  \n",
      "     |  Creates an Analyzer which takes the results of a single game and computes various statistical properties about it.\n",
      "     |  \n",
      "     |  Methods defined here:\n",
      "     |  \n",
      "     |  __init__(self, game)\n",
      "     |      Takes a Game object, throws an error if input is not a Game.\n",
      "     |      \n",
      "     |      :param game: Game object.\n",
      "     |  \n",
      "     |  combo_count(self)\n",
      "     |      Computes the distinct combinations of faces rolled and their counts and returns a dataframe of results. These are order-independent and may contain repetitions.\n",
      "     |      \n",
      "     |      :return: Data frame with distinct combinations and their counts.\n",
      "     |  \n",
      "     |  face_counts_per_roll(self, face)\n",
      "     |      Computes how many times a given face is rolled in each event and returns a dataframe of results.\n",
      "     |      \n",
      "     |      :param face: Face value to compute counts for.\n",
      "     |      :return: Data frame with counts for the given face value.\n",
      "     |  \n",
      "     |  jackpot(self)\n",
      "     |      Computes and returns as an integer how many times the game resulted in a jackpot, when all faces are the same.\n",
      "     |      \n",
      "     |      :return: Number of jackpots.\n",
      "     |  \n",
      "     |  permutation_count(self)\n",
      "     |      Computes the distinct permutations of faces rolled and their counts and returns a dataframe of results. These are order-dependent and may contain repetitions\n",
      "     |      \n",
      "     |      :return: Data frame with distinct permutations and their counts.\n",
      "     |  \n",
      "     |  ----------------------------------------------------------------------\n",
      "     |  Data descriptors defined here:\n",
      "     |  \n",
      "     |  __dict__\n",
      "     |      dictionary for instance variables (if defined)\n",
      "     |  \n",
      "     |  __weakref__\n",
      "     |      list of weak references to the object (if defined)\n",
      "    \n",
      "    class Die(builtins.object)\n",
      "     |  Die(symbols)\n",
      "     |  \n",
      "     |  creates a Die with N sides and W weight that can be rolled to select a face, each of which has a unique symbol that is alphabetic or numeric. W defaults to 1.0 but can be changed after the Die is created.\n",
      "     |  \n",
      "     |  Methods defined here:\n",
      "     |  \n",
      "     |  __init__(self, symbols)\n",
      "     |      Takes a list of symbols as an argument and internally initializes the weights to 1.0 for each symbol.\n",
      "     |      Saves both symbols and weights in a private data frame with symbols in the index.\n",
      "     |      \n",
      "     |      :param symbols: List of symbols for the die sides.\n",
      "     |  \n",
      "     |  change_weight(self, symbol, new_weight)\n",
      "     |      A method to change the weight of a single side.\n",
      "     |      \n",
      "     |      Takes two arguments: the symbol to be changed and the new weight.\n",
      "     |      \n",
      "     |      :param symbol: The symbol to be changed.\n",
      "     |      :param new_weight: The new weight to be assigned.\n",
      "     |  \n",
      "     |  current_die(self)\n",
      "     |      Returns a copy of the private die data frame.\n",
      "     |  \n",
      "     |  roll_die(self, x=1)\n",
      "     |      Rolls the die x times, x defaults to 1, while applying its N and W attributes, returns a list of outcomes but does not store these internally.\n",
      "     |      \n",
      "     |      :param x: Number of times to roll the die.\n",
      "     |      :return: List of outcomes from rolling the die x times.\n",
      "     |  \n",
      "     |  ----------------------------------------------------------------------\n",
      "     |  Data descriptors defined here:\n",
      "     |  \n",
      "     |  __dict__\n",
      "     |      dictionary for instance variables (if defined)\n",
      "     |  \n",
      "     |  __weakref__\n",
      "     |      list of weak references to the object (if defined)\n",
      "    \n",
      "    class Game(builtins.object)\n",
      "     |  Game(dice_list)\n",
      "     |  \n",
      "     |  Creates a Game consisting of inputing one or more Die objects (dice), with the same number of sides and associated faces, but possibly different weights. This class rolls all of the Die in a Game a given number of times and only keeps the most recent play.\n",
      "     |  \n",
      "     |  Methods defined here:\n",
      "     |  \n",
      "     |  __init__(self, dice_list)\n",
      "     |      Takes a list of instantiated similar Die.\n",
      "     |      \n",
      "     |      :param dice_list: List of Die objects.\n",
      "     |  \n",
      "     |  play(self, x)\n",
      "     |      Takes an integer value of how many times the Die should be rolled and save the result to a private, wide dataframe.\n",
      "     |      \n",
      "     |      :param x: Number of times to roll the dice.\n",
      "     |  \n",
      "     |  play_results(self, df_width='wide')\n",
      "     |      Returns results of the most recent play, takes parameter to determine whether this should be a wide or narrow dataframe (defaults to wide), and raises a ValueError if invalid option for df_width (not narrow or wide) is given.\n",
      "     |      \n",
      "     |      :param df_width: Option to return the data frame in 'narrow' or 'wide' form (defaults to 'wide').\n",
      "     |      :return: Copy of the private play data frame.\n",
      "     |  \n",
      "     |  ----------------------------------------------------------------------\n",
      "     |  Data descriptors defined here:\n",
      "     |  \n",
      "     |  __dict__\n",
      "     |      dictionary for instance variables (if defined)\n",
      "     |  \n",
      "     |  __weakref__\n",
      "     |      list of weak references to the object (if defined)\n",
      "\n",
      "FILE\n",
      "    /Users/gwenpowers/Desktop/ds5100_montecarlo/montecarlo.py\n",
      "\n",
      "\n"
     ]
    }
   ],
   "source": [
    "help(montecarlo)"
   ]
  },
  {
   "cell_type": "markdown",
   "id": "a9defa84-b395-4966-bd1c-5c6c2bb7ed68",
   "metadata": {},
   "source": [
    "## `README.md` File (3)\n",
    "\n",
    "Provide link to the README.md file of your project's repo.\n",
    "\n",
    "- Metadata section or info present (1).\n",
    "- Synopsis section showing how each class is called (1). (All must be included.)\n",
    "- API section listing all classes and methods (1). (All must be included.)"
   ]
  },
  {
   "cell_type": "markdown",
   "id": "ee090b33-d593-48a0-bf35-e739cea0942c",
   "metadata": {},
   "source": [
    "URL: https://github.com/gwenpowers1/gwenpowers1_ds5100_montecarlo/blob/main/README.md"
   ]
  },
  {
   "cell_type": "markdown",
   "id": "108604c8-8827-42ef-ab59-6b25428fc0ca",
   "metadata": {},
   "source": [
    "## Successful installation (2)\n",
    "\n",
    "Put a screenshot or paste a copy of a terminal session where you successfully install your module with pip.\n",
    "\n",
    "If pasting text, use a preformatted text block to show the results.\n",
    "\n",
    "- Installed with `pip` (1).\n",
    "- Successfully installed message appears (1)."
   ]
  },
  {
   "cell_type": "markdown",
   "id": "e00b83cd-9b74-4cdc-b1d3-6e1f7903eff2",
   "metadata": {},
   "source": [
    "sktop/ds5100_montecarlo/dist/ds5100_montecarlo-1.0.0.tar.gz\n",
    "Processing ./dist/ds5100_montecarlo-1.0.0.tar.gz\n",
    "  Preparing metadata (setup.py) ... done\n",
    "Requirement already satisfied: numpy in /Users/gwenpowers/anaconda3/lib/python3.10/site-packages (from ds5100-montecarlo==1.0.0) (1.23.5)\n",
    "Requirement already satisfied: pandas in /Users/gwenpowers/anaconda3/lib/python3.10/site-packages (from ds5100-montecarlo==1.0.0) (1.5.3)\n",
    "Requirement already satisfied: python-dateutil>=2.8.1 in /Users/gwenpowers/anaconda3/lib/python3.10/site-packages (from pandas->ds5100-montecarlo==1.0.0) (2.8.2)\n",
    "Requirement already satisfied: pytz>=2020.1 in /Users/gwenpowers/anaconda3/lib/python3.10/site-packages (from pandas->ds5100-montecarlo==1.0.0) (2022.7)\n",
    "Requirement already satisfied: six>=1.5 in /Users/gwenpowers/anaconda3/lib/python3.10/site-packages (from python-dateutil>=2.8.1->pandas->ds5100-montecarlo==1.0.0) (1.16.0)\n",
    "Building wheels for collected packages: ds5100-montecarlo\n",
    "  Building wheel for ds5100-montecarlo (setup.py) ... done\n",
    "  Created wheel for ds5100-montecarlo: filename=ds5100_montecarlo-1.0.0-py3-none-any.whl size=1056 sha256=feee2da9831a8e6f8d3b1956c0d953fded208e5bd7ed2130fec6815aceb039fb\n",
    "  Stored in directory: /Users/gwenpowers/Library/Caches/pip/wheels/2d/4b/e3/016cf945fbf43e17b18e8acf2273b1b9ad09354aacfe3b03be\n",
    "Successfully built ds5100-montecarlo\n",
    "Installing collected packages: ds5100-montecarlo\n",
    "Successfully installed ds5100-montecarlo-1.0.0"
   ]
  },
  {
   "cell_type": "markdown",
   "id": "7c44695d-d1b3-4edf-9f94-e64d7446f199",
   "metadata": {},
   "source": [
    "# Scenarios\n",
    "\n",
    "Use code blocks to perform the tasks for each scenario.\n",
    "\n",
    "Be sure the outputs are visible before submitting."
   ]
  },
  {
   "cell_type": "code",
   "execution_count": 19,
   "id": "1edabab7-814a-4de8-a154-7f839810be1a",
   "metadata": {},
   "outputs": [],
   "source": [
    "import pandas as pd\n",
    "import numpy as np\n",
    "from itertools import product, combinations_with_replacement\n",
    "import matplotlib.pyplot as plt\n",
    "from montecarlo import Die, Game, Analyzer"
   ]
  },
  {
   "cell_type": "markdown",
   "id": "e2479eae-6fc9-44cd-b8d7-9b22cb501f2a",
   "metadata": {
    "tags": []
   },
   "source": [
    "## Scenario 1: A 2-headed Coin (9)\n",
    "\n",
    "Task 1. Create a fair coin (with faces $H$ and $T$) and one unfair coin in which one of the faces has a weight of $5$ and the others $1$.\n",
    "\n",
    "- Fair coin created (1).\n",
    "- Unfair coin created with weight as specified (1)."
   ]
  },
  {
   "cell_type": "code",
   "execution_count": 4,
   "id": "c92bb29b-17f8-4284-a7dc-d614fed97372",
   "metadata": {},
   "outputs": [],
   "source": [
    "fair_coin = Die(['H', 'T'])\n",
    "unfair_coin = Die(['H', 'T'])\n",
    "unfair_coin.change_weight('H', 5.0)"
   ]
  },
  {
   "cell_type": "markdown",
   "id": "02b272ab-99da-4b6e-ac2a-555b73e09c07",
   "metadata": {},
   "source": [
    "Task 2. Play a game of $1000$ flips with two fair dice.\n",
    "\n",
    "- Play method called correclty and without error (1)."
   ]
  },
  {
   "cell_type": "code",
   "execution_count": 5,
   "id": "3d7a182a-a718-4514-ae85-52aaba197e69",
   "metadata": {},
   "outputs": [],
   "source": [
    "fair_die1 = Die(['H', 'T'])\n",
    "fair_die2 = Die(['H', 'T'])\n",
    "\n",
    "game = Game([fair_die1, fair_die2])\n",
    "\n",
    "game.play(1000)"
   ]
  },
  {
   "cell_type": "markdown",
   "id": "7d9c3dc8-22c1-4cae-81fb-d68d774a05d1",
   "metadata": {},
   "source": [
    "Task 3. Play another game (using a new Game object) of $1000$ flips, this time using two unfair dice and one fair die. For the second unfair die, you can use the same die object twice in the list of dice you pass to the Game object.\n",
    "\n",
    "- New game object created (1).\n",
    "- Play method called correclty and without error (1)."
   ]
  },
  {
   "cell_type": "code",
   "execution_count": 6,
   "id": "8b354ea6-2d7e-4f23-b126-fff272502fd2",
   "metadata": {},
   "outputs": [],
   "source": [
    "unfair_die = Die(['H', 'T'])  \n",
    "unfair_coin.change_weight('H', 5.0)\n",
    "fair_die = Die(['H', 'T'])\n",
    "\n",
    "game = Game([unfair_die, unfair_die, fair_die])\n",
    "\n",
    "game.play(1000)"
   ]
  },
  {
   "cell_type": "markdown",
   "id": "f690ebfc-fe71-4eb2-976d-7ac80ca6c23f",
   "metadata": {},
   "source": [
    "Task 4. For each game, use an Analyzer object to determine the raw frequency of jackpots — i.e. getting either all $H$s or all $T$s.\n",
    "\n",
    "- Analyzer objecs instantiated for both games (1).\n",
    "- Raw frequencies reported for both (1)."
   ]
  },
  {
   "cell_type": "code",
   "execution_count": 7,
   "id": "9d6b192e-58f3-4dff-8506-903c6e1ed9c9",
   "metadata": {},
   "outputs": [
    {
     "name": "stdout",
     "output_type": "stream",
     "text": [
      "Fair Game Jackpot Count: 485\n",
      "Unfair Game Jackpot Count: 374\n"
     ]
    }
   ],
   "source": [
    "fair_coin = Die(['H', 'T'])\n",
    "\n",
    "unfair_coin = Die(['H', 'T'])\n",
    "unfair_coin.change_weight('H', 5.0)\n",
    "\n",
    "fair_game = Game([fair_coin, fair_coin])\n",
    "fair_game.play(1000)\n",
    "\n",
    "unfair_die1 = Die(['H', 'T'])\n",
    "unfair_die1.change_weight('H', 5.0)\n",
    "unfair_die2 = Die(['H', 'T'])\n",
    "unfair_die2.change_weight('H', 5.0)\n",
    "fair_die = Die(['H', 'T'])\n",
    "unfair_game = Game([unfair_die1, unfair_die2, fair_die])\n",
    "unfair_game.play(1000)\n",
    "\n",
    "fair_analyzer = Analyzer(fair_game)\n",
    "unfair_analyzer = Analyzer(unfair_game)\n",
    "\n",
    "fair_jackpot_count = fair_analyzer.jackpot()\n",
    "unfair_jackpot_count = unfair_analyzer.jackpot()\n",
    "\n",
    "print(\"Fair Game Jackpot Count:\", fair_jackpot_count)\n",
    "print(\"Unfair Game Jackpot Count:\", unfair_jackpot_count)"
   ]
  },
  {
   "cell_type": "markdown",
   "id": "b73d233c-445e-40cd-8858-0c5e1f097105",
   "metadata": {},
   "source": [
    "Task 5. For each analyzer, compute relative frequency as the number of jackpots over the total number of rolls.\n",
    "\n",
    "- Both relative frequencies computed (1)."
   ]
  },
  {
   "cell_type": "code",
   "execution_count": 8,
   "id": "faa7d4a7-600d-4b27-9038-4d77bc3da4ea",
   "metadata": {},
   "outputs": [
    {
     "name": "stdout",
     "output_type": "stream",
     "text": [
      "Relative Frequency of Jackpots in Fair Game: 0.485\n",
      "Relative Frequency of Jackpots in Unfair Game: 0.374\n"
     ]
    }
   ],
   "source": [
    "total_rolls_fair = fair_game.play_data.shape[0]\n",
    "total_rolls_unfair = unfair_game.play_data.shape[0]\n",
    "\n",
    "relative_frequency_fair = fair_jackpot_count / total_rolls_fair\n",
    "relative_frequency_unfair = unfair_jackpot_count / total_rolls_unfair\n",
    "\n",
    "print(\"Relative Frequency of Jackpots in Fair Game:\", relative_frequency_fair)\n",
    "print(\"Relative Frequency of Jackpots in Unfair Game:\", relative_frequency_unfair)\n"
   ]
  },
  {
   "cell_type": "markdown",
   "id": "a6e1e734-7f5c-4721-8ba4-2f3a424cf984",
   "metadata": {},
   "source": [
    "Task 6. Show your results, comparing the two relative frequencies, in a simple bar chart.\n",
    "\n",
    "- Bar chart plotted and correct (1)."
   ]
  },
  {
   "cell_type": "code",
   "execution_count": 9,
   "id": "b5bd7e63-a4ee-4b0e-b3b0-6c5708ccb906",
   "metadata": {},
   "outputs": [
    {
     "data": {
      "text/plain": [
       "(0.0, 1.0)"
      ]
     },
     "execution_count": 9,
     "metadata": {},
     "output_type": "execute_result"
    },
    {
     "data": {
      "image/png": "[encoded data removed]",
      "text/plain": [
       "<Figure size 640x480 with 1 Axes>"
      ]
     },
     "metadata": {},
     "output_type": "display_data"
    }
   ],
   "source": [
    "labels = ['Fair Game', 'Unfair Game']\n",
    "relative_frequencies = [relative_frequency_fair, relative_frequency_unfair]\n",
    "\n",
    "plt.bar(labels, relative_frequencies, color=['blue', 'orange'])\n",
    "plt.xlabel('Game')\n",
    "plt.ylabel('Relative Frequency of Jackpots')\n",
    "plt.title('Relative Frequency of Jackpots in Fair vs. Unfair Games')\n",
    "plt.ylim(0, 1)"
   ]
  },
  {
   "cell_type": "markdown",
   "id": "725cfa5b-e4b7-47c9-86aa-8d9e1fe6c8c7",
   "metadata": {},
   "source": [
    "## Scenario 2: A 6-sided Die (9)\n",
    "\n",
    "Task 1. Create three dice, each with six sides having the faces 1 through 6.\n",
    "\n",
    "- Three die objects created (1)."
   ]
  },
  {
   "cell_type": "code",
   "execution_count": 10,
   "id": "f6cb992b-ff44-4bae-ac68-9ebdab3a0bf0",
   "metadata": {},
   "outputs": [],
   "source": [
    "die1 = Die(['1', '2', '3', '4', '5', '6'])\n",
    "die2 = Die(['1', '2', '3', '4', '5', '6'])\n",
    "die3 = Die(['1', '2', '3', '4', '5', '6'])"
   ]
  },
  {
   "cell_type": "markdown",
   "id": "2ed3ad26-fbe9-43bd-9ad7-f683a4191d12",
   "metadata": {},
   "source": [
    "Task 2. Convert one of the dice to an unfair one by weighting the face $6$ five times more than the other weights (i.e. it has weight of 5 and the others a weight of 1 each).\n",
    "\n",
    "- Unfair die created with proper call to weight change method (1)."
   ]
  },
  {
   "cell_type": "code",
   "execution_count": 11,
   "id": "0397712d-6cf5-4efe-aef4-28abbfe44b54",
   "metadata": {},
   "outputs": [],
   "source": [
    "die1.change_weight('6', 5.0)"
   ]
  },
  {
   "cell_type": "markdown",
   "id": "7f6c062a-4c5b-45b9-96b8-76a0354c7e47",
   "metadata": {},
   "source": [
    "Task 3. Convert another of the dice to be unfair by weighting the face $1$ five times more than the others.\n",
    "\n",
    "- Unfair die created with proper call to weight change method (1)."
   ]
  },
  {
   "cell_type": "code",
   "execution_count": 12,
   "id": "4d5e9aba-5ebf-487a-986a-64fd376600e5",
   "metadata": {},
   "outputs": [],
   "source": [
    "die2.change_weight('1', 5.0)"
   ]
  },
  {
   "cell_type": "markdown",
   "id": "f0ed31cb-0a3c-4eb2-b85e-6ed6b2eb6e58",
   "metadata": {},
   "source": [
    "Task 4. Play a game of $10000$ rolls with $5$ fair dice.\n",
    "\n",
    "- Game class properly instantiated (1). \n",
    "- Play method called properly (1)."
   ]
  },
  {
   "cell_type": "code",
   "execution_count": 13,
   "id": "eabb92ec-35a0-431d-96d0-25eccb92fd86",
   "metadata": {},
   "outputs": [],
   "source": [
    "fair_dice = [die3, die3, die3, die3, die3]\n",
    "fair_game = Game(fair_dice)\n",
    "fair_game.play(10000)"
   ]
  },
  {
   "cell_type": "markdown",
   "id": "7814b402-46a4-40e5-8141-20e05c3e646b",
   "metadata": {},
   "source": [
    "Task 5. Play another game of $10000$ rolls, this time with $2$ unfair dice, one as defined in steps #2 and #3 respectively, and $3$ fair dice.\n",
    "\n",
    "- Game class properly instantiated (1). \n",
    "- Play method called properly (1)."
   ]
  },
  {
   "cell_type": "code",
   "execution_count": 14,
   "id": "2deef717-6be3-465f-9feb-b32d9d4edbd1",
   "metadata": {},
   "outputs": [],
   "source": [
    "unfair_dice = [die1, die2, die3, die3, die3]\n",
    "unfair_game = Game(unfair_dice)\n",
    "unfair_game.play(10000)"
   ]
  },
  {
   "cell_type": "markdown",
   "id": "7b6cd372-2bb8-4df8-ade1-8f48bc300955",
   "metadata": {},
   "source": [
    "Task 6. For each game, use an Analyzer object to determine the relative frequency of jackpots and show your results, comparing the two relative frequencies, in a simple bar chart.\n",
    "\n",
    "- Jackpot methods called (1).\n",
    "- Graph produced (1)."
   ]
  },
  {
   "cell_type": "code",
   "execution_count": 15,
   "id": "1034cfc3-ca4f-4aa2-8ec9-843d20fd2e9c",
   "metadata": {},
   "outputs": [
    {
     "data": {
      "text/plain": [
       "Text(0.5, 1.0, 'Relative Frequency of Jackpots in Fair vs. Unfair Games')"
      ]
     },
     "execution_count": 15,
     "metadata": {},
     "output_type": "execute_result"
    },
    {
     "data": {
      "image/png": "[encoded data removed]",
      "text/plain": [
       "<Figure size 640x480 with 1 Axes>"
      ]
     },
     "metadata": {},
     "output_type": "display_data"
    }
   ],
   "source": [
    "# Fair game\n",
    "fair_analyzer = Analyzer(fair_game)\n",
    "fair_jackpot_count = fair_analyzer.jackpot()\n",
    "total_rolls_fair = fair_game.play_data.shape[0]\n",
    "relative_frequency_fair = fair_jackpot_count / total_rolls_fair\n",
    "\n",
    "# Unfair game\n",
    "unfair_analyzer = Analyzer(unfair_game)\n",
    "unfair_jackpot_count = unfair_analyzer.jackpot()\n",
    "total_rolls_unfair = unfair_game.play_data.shape[0]\n",
    "relative_frequency_unfair = unfair_jackpot_count / total_rolls_unfair\n",
    "\n",
    "games = ['Fair Game', 'Unfair Game']\n",
    "relative_frequencies = [relative_frequency_fair, relative_frequency_unfair]\n",
    "plt.bar(games, relative_frequencies, color=['blue', 'orange'])\n",
    "plt.xlabel('Game')\n",
    "plt.ylabel('Relative Frequency of Jackpots')\n",
    "plt.title('Relative Frequency of Jackpots in Fair vs. Unfair Games')"
   ]
  },
  {
   "cell_type": "markdown",
   "id": "9f04e9be-8fcf-4ea4-a391-6614608285f8",
   "metadata": {},
   "source": [
    "## Scenario 3: Letters of the Alphabet (7)\n",
    "\n",
    "Task 1. Create a \"die\" of letters from $A$ to $Z$ with weights based on their frequency of usage as found in the data file `english_letters.txt`. Use the frequencies (i.e. raw counts) as weights.\n",
    "\n",
    "- Die correctly instantiated with source file data (1).\n",
    "- Weights properly applied using weight setting method (1)."
   ]
  },
  {
   "cell_type": "code",
   "execution_count": 26,
   "id": "41e95ef0-67de-4674-a801-6a9cdd0147f8",
   "metadata": {},
   "outputs": [],
   "source": [
    "letter_freq_data = pd.read_csv('english_letters.txt', sep=' ', header=None, names=['Letter', 'Frequency'])\n",
    "\n",
    "letter_frequencies = dict(zip(letter_freq_data['Letter'], letter_freq_data['Frequency']))\n",
    "\n",
    "letters = [chr(i) for i in range(ord('A'), ord('Z') + 1)]\n",
    "\n",
    "weights = [letter_frequencies[letter] for letter in letters]\n",
    "\n",
    "letter_die = Die(letters)\n",
    "for letter, weight in zip(letters, weights):\n",
    "    letter_die.change_weight(letter, weight)\n"
   ]
  },
  {
   "cell_type": "markdown",
   "id": "88e2e14a-6223-470a-a2c8-bca1120d7a5b",
   "metadata": {},
   "source": [
    "Task 2. Play a game involving $4$ of these dice with $1000$ rolls.\n",
    "\n",
    "- Game play method properly called (1)."
   ]
  },
  {
   "cell_type": "code",
   "execution_count": 27,
   "id": "70eadc62-209e-4c0d-b8b1-f38aa84e07da",
   "metadata": {},
   "outputs": [],
   "source": [
    "dice_list = [letter_die] * 4\n",
    "game = Game(dice_list)\n",
    "game.play(1000)"
   ]
  },
  {
   "cell_type": "markdown",
   "id": "3b9ff800-bf1f-4f66-9d7f-ff57a648e9f0",
   "metadata": {},
   "source": [
    "Task 3. Determine how many permutations in your results are actual English words, based on the vocabulary found in `scrabble_words.txt`.\n",
    "\n",
    "- Use permutation method (1).\n",
    "- Get count as difference between permutations and vocabulary (1)."
   ]
  },
  {
   "cell_type": "code",
   "execution_count": 28,
   "id": "ca6f35b0-ca50-4191-9094-5e04825bb23d",
   "metadata": {},
   "outputs": [
    {
     "name": "stdout",
     "output_type": "stream",
     "text": [
      "Number of valid English words: 1602\n"
     ]
    }
   ],
   "source": [
    "with open('scrabble_words.txt', 'r') as file:\n",
    "    valid_words = set(word.strip().upper() for word in file)\n",
    "\n",
    "analyzer = Analyzer(game)\n",
    "\n",
    "permutation_df = analyzer.permutation_count()\n",
    "valid_word_count = sum(''.join(permutation) in valid_words for permutation, _ in permutation_df.iterrows())\n",
    "\n",
    "print(f\"Number of valid English words: {valid_word_count}\")"
   ]
  },
  {
   "cell_type": "markdown",
   "id": "fcf068cf-381a-4b3e-ac3a-0510eb4dbdb0",
   "metadata": {},
   "source": [
    "Task 4. Repeat steps #2 and #3, this time with $5$ dice. How many actual words does this produce? Which produces more?\n",
    "\n",
    "- Successfully repreats steps (1).\n",
    "- Identifies parameter with most found words (1)."
   ]
  },
  {
   "cell_type": "code",
   "execution_count": 30,
   "id": "e3198f94-635b-4304-88e9-bfcea5d0cf5a",
   "metadata": {},
   "outputs": [
    {
     "name": "stdout",
     "output_type": "stream",
     "text": [
      "Number of valid English words with 5 dice: 2625\n",
      "Using 5 dice produced more valid English words.\n"
     ]
    }
   ],
   "source": [
    "dice_list_5 = [letter_die] * 5\n",
    "game_5_dice = Game(dice_list_5)\n",
    "game_5_dice.play(1000)\n",
    "\n",
    "analyzer_5_dice = Analyzer(game_5_dice)\n",
    "\n",
    "permutation_df_5_dice = analyzer_5_dice.permutation_count()\n",
    "valid_word_count_5_dice = sum(''.join(permutation) in valid_words for permutation, _ in permutation_df_5_dice.iterrows())\n",
    "\n",
    "print(f\"Number of valid English words with 5 dice: {valid_word_count_5_dice}\")\n",
    "\n",
    "if valid_word_count_5_dice > valid_word_count:\n",
    "    print(\"Using 5 dice produced more valid English words.\")\n",
    "else:\n",
    "    print(\"Using 4 dice produced more valid English words.\")"
   ]
  },
  {
   "cell_type": "markdown",
   "id": "c278a60d-a4dd-48df-8317-650185f7f0ca",
   "metadata": {},
   "source": [
    "# Submission"
   ]
  },
  {
   "cell_type": "markdown",
   "id": "a2b34ea0-96d3-4e0a-ac65-00a1cf287008",
   "metadata": {},
   "source": [
    "When finished completing the above tasks, save this file to your local repo (and within your project), and them push it to your GitHub repo.\n",
    "\n",
    "Then convert this file to a PDF and submit it to GradeScope according to the assignment instructions in Canvas."
   ]
  }
 ],
 "metadata": {
  "kernelspec": {
   "display_name": "Python 3 (ipykernel)",
   "language": "python",
   "name": "python3"
  },
  "language_info": {
   "codemirror_mode": {
    "name": "ipython",
    "version": 3
   },
   "file_extension": ".py",
   "mimetype": "text/x-python",
   "name": "python",
   "nbconvert_exporter": "python",
   "pygments_lexer": "ipython3",
   "version": "3.10.9"
  },
  "toc-autonumbering": true,
  "widgets": {
   "application/vnd.jupyter.widget-state+json": {
    "state": {},
    "version_major": 2,
    "version_minor": 0
   }
  }
 },
 "nbformat": 4,
 "nbformat_minor": 5
}
